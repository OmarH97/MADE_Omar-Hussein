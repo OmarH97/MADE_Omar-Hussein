{
 "cells": [
  {
   "cell_type": "markdown",
   "source": [
    "# Project"
   ],
   "metadata": {
    "collapsed": false
   },
   "id": "8dbb5c8a7823c28c"
  },
  {
   "cell_type": "code",
   "execution_count": 5,
   "outputs": [],
   "source": [
    "import pandas as pd"
   ],
   "metadata": {
    "collapsed": false,
    "ExecuteTime": {
     "end_time": "2023-11-09T21:07:58.262514800Z",
     "start_time": "2023-11-09T21:07:58.260517200Z"
    }
   },
   "id": "initial_id"
  },
  {
   "cell_type": "code",
   "execution_count": 6,
   "outputs": [],
   "source": [
    "data_sources = [\"https://www.ons.gov.uk/file?uri=/employmentandlabourmarket/peopleinwork/employmentandemployeetypes/datasets/probabilityofautomationinengland/2011and2017/automationreferencetables.xls\"]"
   ],
   "metadata": {
    "collapsed": false,
    "ExecuteTime": {
     "end_time": "2023-11-09T21:07:59.230487400Z",
     "start_time": "2023-11-09T21:07:59.225489100Z"
    }
   },
   "id": "10674320d231a90e"
  },
  {
   "cell_type": "code",
   "execution_count": 15,
   "outputs": [],
   "source": [
    "storage_options = {'User-Agent': 'Mozilla/5.0'}\n",
    "for i in data_sources:\n",
    "    data_source = pd.read_excel(i, storage_options=storage_options, sheet_name=None)\n",
    "    #print(data_source.head())"
   ],
   "metadata": {
    "collapsed": false,
    "ExecuteTime": {
     "end_time": "2023-11-09T21:26:39.340191500Z",
     "start_time": "2023-11-09T21:26:38.680774Z"
    }
   },
   "id": "41140a1a75feb71e"
  },
  {
   "cell_type": "code",
   "execution_count": 31,
   "outputs": [
    {
     "data": {
      "text/plain": "    Table 8a(i): Probability of automation by industry (SIC2007 2-digit)  \\\n0    Table 8a(ii): Number and proportion of jobs at...                     \n1    Table 8a(iii): Proportion of employees in high...                     \n2                                        England, 2011                     \n3                                                  NaN                     \n4                                                  NaN                     \n..                                                 ...                     \n96   1. \"-\" indicates unweighted counts of <10 whic...                     \n97   2. Cells highlighted red indicate where the as...                     \n98   3. Proportions of jobs at low, medium and high...                     \n99   4. Proportions of employees in high-skill and ...                     \n100         5. Totals might not add up due to rounding                     \n\n    Unnamed: 1              Unnamed: 2  Unnamed: 3 Unnamed: 4 Unnamed: 5  \\\n0          NaN                     NaN         NaN        NaN        NaN   \n1          NaN                     NaN         NaN        NaN        NaN   \n2          NaN                     NaN         NaN        NaN        NaN   \n3          NaN                     NaN         NaN        NaN        NaN   \n4          NaN  Percentage probability         NaN        NaN        NaN   \n..         ...                     ...         ...        ...        ...   \n96         NaN                     NaN         NaN        NaN        NaN   \n97         NaN                     NaN         NaN        NaN        NaN   \n98         NaN                     NaN         NaN        NaN        NaN   \n99         NaN                     NaN         NaN        NaN        NaN   \n100        NaN                     NaN         NaN        NaN        NaN   \n\n    Unnamed: 6 Unnamed: 7 Unnamed: 8 Unnamed: 9 Unnamed: 10  Unnamed: 11  \\\n0          NaN        NaN        NaN        NaN         NaN          NaN   \n1          NaN        NaN        NaN        NaN         NaN          NaN   \n2          NaN        NaN        NaN        NaN         NaN          NaN   \n3          NaN        NaN        NaN        NaN         NaN          NaN   \n4          NaN   Thousand        NaN        NaN  Percentage          NaN   \n..         ...        ...        ...        ...         ...          ...   \n96         NaN        NaN        NaN        NaN         NaN          NaN   \n97         NaN        NaN        NaN        NaN         NaN          NaN   \n98         NaN        NaN        NaN        NaN         NaN          NaN   \n99         NaN        NaN        NaN        NaN         NaN          NaN   \n100        NaN        NaN        NaN        NaN         NaN          NaN   \n\n     Unnamed: 12  Return to contents  \n0            NaN                 NaN  \n1            NaN                 NaN  \n2            NaN                 NaN  \n3            NaN                 NaN  \n4            NaN                 NaN  \n..           ...                 ...  \n96           NaN                 NaN  \n97           NaN                 NaN  \n98           NaN                 NaN  \n99           NaN                 NaN  \n100          NaN                 NaN  \n\n[101 rows x 14 columns]",
      "text/html": "<div>\n<style scoped>\n    .dataframe tbody tr th:only-of-type {\n        vertical-align: middle;\n    }\n\n    .dataframe tbody tr th {\n        vertical-align: top;\n    }\n\n    .dataframe thead th {\n        text-align: right;\n    }\n</style>\n<table border=\"1\" class=\"dataframe\">\n  <thead>\n    <tr style=\"text-align: right;\">\n      <th></th>\n      <th>Table 8a(i): Probability of automation by industry (SIC2007 2-digit)</th>\n      <th>Unnamed: 1</th>\n      <th>Unnamed: 2</th>\n      <th>Unnamed: 3</th>\n      <th>Unnamed: 4</th>\n      <th>Unnamed: 5</th>\n      <th>Unnamed: 6</th>\n      <th>Unnamed: 7</th>\n      <th>Unnamed: 8</th>\n      <th>Unnamed: 9</th>\n      <th>Unnamed: 10</th>\n      <th>Unnamed: 11</th>\n      <th>Unnamed: 12</th>\n      <th>Return to contents</th>\n    </tr>\n  </thead>\n  <tbody>\n    <tr>\n      <th>0</th>\n      <td>Table 8a(ii): Number and proportion of jobs at...</td>\n      <td>NaN</td>\n      <td>NaN</td>\n      <td>NaN</td>\n      <td>NaN</td>\n      <td>NaN</td>\n      <td>NaN</td>\n      <td>NaN</td>\n      <td>NaN</td>\n      <td>NaN</td>\n      <td>NaN</td>\n      <td>NaN</td>\n      <td>NaN</td>\n      <td>NaN</td>\n    </tr>\n    <tr>\n      <th>1</th>\n      <td>Table 8a(iii): Proportion of employees in high...</td>\n      <td>NaN</td>\n      <td>NaN</td>\n      <td>NaN</td>\n      <td>NaN</td>\n      <td>NaN</td>\n      <td>NaN</td>\n      <td>NaN</td>\n      <td>NaN</td>\n      <td>NaN</td>\n      <td>NaN</td>\n      <td>NaN</td>\n      <td>NaN</td>\n      <td>NaN</td>\n    </tr>\n    <tr>\n      <th>2</th>\n      <td>England, 2011</td>\n      <td>NaN</td>\n      <td>NaN</td>\n      <td>NaN</td>\n      <td>NaN</td>\n      <td>NaN</td>\n      <td>NaN</td>\n      <td>NaN</td>\n      <td>NaN</td>\n      <td>NaN</td>\n      <td>NaN</td>\n      <td>NaN</td>\n      <td>NaN</td>\n      <td>NaN</td>\n    </tr>\n    <tr>\n      <th>3</th>\n      <td>NaN</td>\n      <td>NaN</td>\n      <td>NaN</td>\n      <td>NaN</td>\n      <td>NaN</td>\n      <td>NaN</td>\n      <td>NaN</td>\n      <td>NaN</td>\n      <td>NaN</td>\n      <td>NaN</td>\n      <td>NaN</td>\n      <td>NaN</td>\n      <td>NaN</td>\n      <td>NaN</td>\n    </tr>\n    <tr>\n      <th>4</th>\n      <td>NaN</td>\n      <td>NaN</td>\n      <td>Percentage probability</td>\n      <td>NaN</td>\n      <td>NaN</td>\n      <td>NaN</td>\n      <td>NaN</td>\n      <td>Thousand</td>\n      <td>NaN</td>\n      <td>NaN</td>\n      <td>Percentage</td>\n      <td>NaN</td>\n      <td>NaN</td>\n      <td>NaN</td>\n    </tr>\n    <tr>\n      <th>...</th>\n      <td>...</td>\n      <td>...</td>\n      <td>...</td>\n      <td>...</td>\n      <td>...</td>\n      <td>...</td>\n      <td>...</td>\n      <td>...</td>\n      <td>...</td>\n      <td>...</td>\n      <td>...</td>\n      <td>...</td>\n      <td>...</td>\n      <td>...</td>\n    </tr>\n    <tr>\n      <th>96</th>\n      <td>1. \"-\" indicates unweighted counts of &lt;10 whic...</td>\n      <td>NaN</td>\n      <td>NaN</td>\n      <td>NaN</td>\n      <td>NaN</td>\n      <td>NaN</td>\n      <td>NaN</td>\n      <td>NaN</td>\n      <td>NaN</td>\n      <td>NaN</td>\n      <td>NaN</td>\n      <td>NaN</td>\n      <td>NaN</td>\n      <td>NaN</td>\n    </tr>\n    <tr>\n      <th>97</th>\n      <td>2. Cells highlighted red indicate where the as...</td>\n      <td>NaN</td>\n      <td>NaN</td>\n      <td>NaN</td>\n      <td>NaN</td>\n      <td>NaN</td>\n      <td>NaN</td>\n      <td>NaN</td>\n      <td>NaN</td>\n      <td>NaN</td>\n      <td>NaN</td>\n      <td>NaN</td>\n      <td>NaN</td>\n      <td>NaN</td>\n    </tr>\n    <tr>\n      <th>98</th>\n      <td>3. Proportions of jobs at low, medium and high...</td>\n      <td>NaN</td>\n      <td>NaN</td>\n      <td>NaN</td>\n      <td>NaN</td>\n      <td>NaN</td>\n      <td>NaN</td>\n      <td>NaN</td>\n      <td>NaN</td>\n      <td>NaN</td>\n      <td>NaN</td>\n      <td>NaN</td>\n      <td>NaN</td>\n      <td>NaN</td>\n    </tr>\n    <tr>\n      <th>99</th>\n      <td>4. Proportions of employees in high-skill and ...</td>\n      <td>NaN</td>\n      <td>NaN</td>\n      <td>NaN</td>\n      <td>NaN</td>\n      <td>NaN</td>\n      <td>NaN</td>\n      <td>NaN</td>\n      <td>NaN</td>\n      <td>NaN</td>\n      <td>NaN</td>\n      <td>NaN</td>\n      <td>NaN</td>\n      <td>NaN</td>\n    </tr>\n    <tr>\n      <th>100</th>\n      <td>5. Totals might not add up due to rounding</td>\n      <td>NaN</td>\n      <td>NaN</td>\n      <td>NaN</td>\n      <td>NaN</td>\n      <td>NaN</td>\n      <td>NaN</td>\n      <td>NaN</td>\n      <td>NaN</td>\n      <td>NaN</td>\n      <td>NaN</td>\n      <td>NaN</td>\n      <td>NaN</td>\n      <td>NaN</td>\n    </tr>\n  </tbody>\n</table>\n<p>101 rows × 14 columns</p>\n</div>"
     },
     "execution_count": 31,
     "metadata": {},
     "output_type": "execute_result"
    }
   ],
   "source": [
    "for j in data_source:\n",
    "    sheet1 = list(data_source.values())[12]\n",
    "sheet1"
   ],
   "metadata": {
    "collapsed": false,
    "ExecuteTime": {
     "end_time": "2023-11-10T12:38:12.613745500Z",
     "start_time": "2023-11-10T12:38:12.572084Z"
    }
   },
   "id": "6d3591c3e2af9562"
  },
  {
   "cell_type": "markdown",
   "source": [
    "## References"
   ],
   "metadata": {
    "collapsed": false
   },
   "id": "e3b9a81f7f356d93"
  },
  {
   "cell_type": "code",
   "execution_count": null,
   "outputs": [],
   "source": [
    "# https://stackoverflow.com/questions/62278538/pd-read-csv-produces-httperror-http-error-403-forbidden"
   ],
   "metadata": {
    "collapsed": false
   },
   "id": "ec04be497999f3e4"
  }
 ],
 "metadata": {
  "kernelspec": {
   "display_name": "Python 3",
   "language": "python",
   "name": "python3"
  },
  "language_info": {
   "codemirror_mode": {
    "name": "ipython",
    "version": 2
   },
   "file_extension": ".py",
   "mimetype": "text/x-python",
   "name": "python",
   "nbconvert_exporter": "python",
   "pygments_lexer": "ipython2",
   "version": "2.7.6"
  }
 },
 "nbformat": 4,
 "nbformat_minor": 5
}
